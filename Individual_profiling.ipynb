{
  "nbformat": 4,
  "nbformat_minor": 0,
  "metadata": {
    "colab": {
      "provenance": []
    },
    "kernelspec": {
      "name": "python3",
      "display_name": "Python 3"
    },
    "language_info": {
      "name": "python"
    }
  },
  "cells": [
    {
      "cell_type": "code",
      "metadata": {
        "colab": {
          "base_uri": "https://localhost:8080/"
        },
        "id": "MJXGB4k6oTLC",
        "outputId": "86a98034-9d15-44e0-cd45-55086288ceb0"
      },
      "source": [
        "pip install google"
      ],
      "execution_count": 10,
      "outputs": [
        {
          "output_type": "stream",
          "name": "stdout",
          "text": [
            "Requirement already satisfied: google in /usr/local/lib/python3.10/dist-packages (2.0.3)\n",
            "Requirement already satisfied: beautifulsoup4 in /usr/local/lib/python3.10/dist-packages (from google) (4.12.3)\n",
            "Requirement already satisfied: soupsieve>1.2 in /usr/local/lib/python3.10/dist-packages (from beautifulsoup4->google) (2.5)\n"
          ]
        }
      ]
    },
    {
      "cell_type": "code",
      "source": [
        "pip install fpdf2"
      ],
      "metadata": {
        "colab": {
          "base_uri": "https://localhost:8080/"
        },
        "id": "tM-R0XczS6Ew",
        "outputId": "948cec39-a923-4d94-94c5-4ba3c0f0bea9"
      },
      "execution_count": 11,
      "outputs": [
        {
          "output_type": "stream",
          "name": "stdout",
          "text": [
            "Requirement already satisfied: fpdf2 in /usr/local/lib/python3.10/dist-packages (2.7.9)\n",
            "Requirement already satisfied: defusedxml in /usr/local/lib/python3.10/dist-packages (from fpdf2) (0.7.1)\n",
            "Requirement already satisfied: Pillow!=9.2.*,>=6.2.2 in /usr/local/lib/python3.10/dist-packages (from fpdf2) (9.4.0)\n",
            "Requirement already satisfied: fonttools>=4.34.0 in /usr/local/lib/python3.10/dist-packages (from fpdf2) (4.51.0)\n"
          ]
        }
      ]
    },
    {
      "cell_type": "code",
      "metadata": {
        "colab": {
          "base_uri": "https://localhost:8080/"
        },
        "id": "io9R1XM-nXLA",
        "outputId": "34cc27b2-0699-436a-c71a-af9591a17e24"
      },
      "source": [
        "from bs4 import BeautifulSoup as bs\n",
        "import pandas as pd\n",
        "pd.set_option('display.max_colwidth', 500)\n",
        "import time\n",
        "import requests\n",
        "import random\n",
        "from fpdf import FPDF\n",
        "\n",
        "try:\n",
        "    from googlesearch import search\n",
        "except ImportError:\n",
        "    print(\"No module named 'google' found\")\n",
        "\n",
        "# Keyword to search\n",
        "keyword = \"Dr Jamilur Reza Chowdhury\"\n",
        "\n",
        "# List to store the search result links\n",
        "links = []\n",
        "\n",
        "# Perform the search and store the links\n",
        "for url in search(keyword, tld=\"co.in\", lang='ben', num=10, stop=10, pause=2):\n",
        "    links.append(url)\n",
        "\n",
        "# Print all retrieved links (for verification)\n",
        "print(\"Retrieved links:\")\n",
        "for link in links:\n",
        "    print(link)\n",
        "\n",
        "# Use one of the links from the stored list (e.g., the first link)\n",
        "if links:\n",
        "    chosen_link = links[1]\n",
        "    page = requests.get(chosen_link)\n",
        "    print(page)\n",
        "else:\n",
        "    print(\"No links found\")\n",
        "# <Response [200]>\n",
        "soup = bs(page.content)\n",
        "soup\n",
        "soup.find_all(class_='infobox-header')\n",
        "paragraphs = [tag.text for tag in soup.select('p')]"
      ],
      "execution_count": 22,
      "outputs": [
        {
          "output_type": "stream",
          "name": "stdout",
          "text": [
            "Retrieved links:\n",
            "https://en.wikipedia.org/wiki/Jamilur_Reza_Choudhury\n",
            "https://ce.buet.ac.bd/national-professor-dr-jamilur-reza-choudhury/\n",
            "https://www.bracu.ac.bd/about/vice-chancellor/professor-jamilur-reza-choudhury\n",
            "https://www.thedailystar.net/supplements-old/news/builder-dreams-3014186\n",
            "https://www.iebbd.org/successstory/successStoryJRChoudhury.jsp?storyIdX=13\n",
            "https://en.banglapedia.org/index.php?title=Choudhury,_Jamilur_Reza\n",
            "https://obituary.quantummethod.org.bd/en/detail/a2d5b0f0-8d5d-11ea-bfc2-2e2b811a2076/National%20Professor%20Dr.%20Jamilur%20Reza%20Chowdhury\n",
            "https://www.buetalumniab.ca/news/dr-jamilur-reza-choudhury-civil-engineering-building\n",
            "https://www.tritiyomatra.com/profile/272\n",
            "https://www.researchgate.net/profile/Jamilur-Choudhury\n",
            "<Response [200]>\n"
          ]
        }
      ]
    },
    {
      "cell_type": "code",
      "source": [
        "from google.colab import files\n",
        "\n",
        "# Join paragraphs into a single string\n",
        "text_content = \"\\n\".join(paragraphs)\n",
        "\n",
        "# Save the text content to a text file\n",
        "with open(\"text_content.txt\", \"w\", encoding=\"utf-8\") as file:\n",
        "    file.write(text_content)\n",
        "\n",
        "print(\"Text content saved to text_content.txt file.\")\n",
        "files.download('text_content.txt')"
      ],
      "metadata": {
        "colab": {
          "base_uri": "https://localhost:8080/",
          "height": 34
        },
        "id": "xJFizhNdXH3h",
        "outputId": "a3de0a99-d1ff-439d-b16d-4303370cf92d"
      },
      "execution_count": 23,
      "outputs": [
        {
          "output_type": "stream",
          "name": "stdout",
          "text": [
            "Text content saved to text_content.txt file.\n"
          ]
        },
        {
          "output_type": "display_data",
          "data": {
            "text/plain": [
              "<IPython.core.display.Javascript object>"
            ],
            "application/javascript": [
              "\n",
              "    async function download(id, filename, size) {\n",
              "      if (!google.colab.kernel.accessAllowed) {\n",
              "        return;\n",
              "      }\n",
              "      const div = document.createElement('div');\n",
              "      const label = document.createElement('label');\n",
              "      label.textContent = `Downloading \"${filename}\": `;\n",
              "      div.appendChild(label);\n",
              "      const progress = document.createElement('progress');\n",
              "      progress.max = size;\n",
              "      div.appendChild(progress);\n",
              "      document.body.appendChild(div);\n",
              "\n",
              "      const buffers = [];\n",
              "      let downloaded = 0;\n",
              "\n",
              "      const channel = await google.colab.kernel.comms.open(id);\n",
              "      // Send a message to notify the kernel that we're ready.\n",
              "      channel.send({})\n",
              "\n",
              "      for await (const message of channel.messages) {\n",
              "        // Send a message to notify the kernel that we're ready.\n",
              "        channel.send({})\n",
              "        if (message.buffers) {\n",
              "          for (const buffer of message.buffers) {\n",
              "            buffers.push(buffer);\n",
              "            downloaded += buffer.byteLength;\n",
              "            progress.value = downloaded;\n",
              "          }\n",
              "        }\n",
              "      }\n",
              "      const blob = new Blob(buffers, {type: 'application/binary'});\n",
              "      const a = document.createElement('a');\n",
              "      a.href = window.URL.createObjectURL(blob);\n",
              "      a.download = filename;\n",
              "      div.appendChild(a);\n",
              "      a.click();\n",
              "      div.remove();\n",
              "    }\n",
              "  "
            ]
          },
          "metadata": {}
        },
        {
          "output_type": "display_data",
          "data": {
            "text/plain": [
              "<IPython.core.display.Javascript object>"
            ],
            "application/javascript": [
              "download(\"download_2e34192c-f028-42bb-b958-2f761fdf1de8\", \"text_content.txt\", 9723)"
            ]
          },
          "metadata": {}
        }
      ]
    },
    {
      "cell_type": "code",
      "source": [
        "from bs4 import BeautifulSoup as bs\n",
        "import pandas as pd\n",
        "pd.set_option('display.max_colwidth', 500)\n",
        "import time\n",
        "import requests\n",
        "import random\n",
        "from fpdf import FPDF\n",
        "\n",
        "try:\n",
        "    from googlesearch import search\n",
        "except ImportError:\n",
        "    print(\"No module named 'google' found\")\n",
        "\n",
        "# Keyword to search\n",
        "keyword = \"Ibtesum Sakib\"\n",
        "\n",
        "# List to store the search result links\n",
        "links = []\n",
        "\n",
        "# Perform the search and store the links\n",
        "for url in search(keyword, tld=\"co.in\", lang='ben', num=10, stop=10, pause=2):\n",
        "    links.append(url)\n",
        "\n",
        "# Print all retrieved links (for verification)\n",
        "print(\"Retrieved links:\")\n",
        "for link in links:\n",
        "    print(link)\n",
        "\n",
        "# Use one of the links from the stored list (e.g., the first link)\n",
        "if links:\n",
        "    chosen_link = links[1]\n",
        "    page = requests.get(chosen_link)\n",
        "    print(page)\n",
        "else:\n",
        "    print(\"No links found\")\n",
        "# <Response [200]>\n",
        "soup = bs(page.content)\n",
        "soup\n",
        "soup.find_all(class_='infobox-header')\n",
        "paragraphs = [tag.text for tag in soup.select('p')]\n",
        "from google.colab import files\n",
        "\n",
        "# Join paragraphs into a single string\n",
        "text_content = \"\\n\".join(paragraphs)\n",
        "\n",
        "# Save the text content to a text file\n",
        "with open(\"text_content.txt\", \"w\", encoding=\"utf-8\") as file:\n",
        "    file.write(text_content)\n",
        "\n",
        "print(\"Text content saved to text_content.txt file.\")\n",
        "files.download('text_content.txt')"
      ],
      "metadata": {
        "colab": {
          "base_uri": "https://localhost:8080/",
          "height": 243
        },
        "id": "2fMbbliiYL-1",
        "outputId": "de480ea0-a898-40db-e7b6-b90257e4f1d5"
      },
      "execution_count": 27,
      "outputs": [
        {
          "output_type": "stream",
          "name": "stdout",
          "text": [
            "Retrieved links:\n",
            "https://de.linkedin.com/in/nishat-nowreen-ba2965170\n",
            "https://www.instagram.com/nowrin_nishat/\n",
            "https://www.facebook.com/farin.tisha.988/\n",
            "https://www.instagram.com/njnowrin/?hl=en\n",
            "https://bd.linkedin.com/in/nishat-nowrin-75694b27b\n",
            "https://www.youtube.com/channel/UCk-FTeiw55E5Lta8Z4EJXkw\n",
            "https://www.pinterest.com/charmingnowreen/\n",
            "https://dspace.bracu.ac.bd/xmlui/handle/10361/14377\n",
            "https://www.youtube.com/channel/UCN-gqGW5PAYV49jC758Hijw\n",
            "https://www.pinterest.com/nishatnowrin100/\n",
            "<Response [200]>\n",
            "Text content saved to text_content.txt file.\n"
          ]
        },
        {
          "output_type": "display_data",
          "data": {
            "text/plain": [
              "<IPython.core.display.Javascript object>"
            ],
            "application/javascript": [
              "\n",
              "    async function download(id, filename, size) {\n",
              "      if (!google.colab.kernel.accessAllowed) {\n",
              "        return;\n",
              "      }\n",
              "      const div = document.createElement('div');\n",
              "      const label = document.createElement('label');\n",
              "      label.textContent = `Downloading \"${filename}\": `;\n",
              "      div.appendChild(label);\n",
              "      const progress = document.createElement('progress');\n",
              "      progress.max = size;\n",
              "      div.appendChild(progress);\n",
              "      document.body.appendChild(div);\n",
              "\n",
              "      const buffers = [];\n",
              "      let downloaded = 0;\n",
              "\n",
              "      const channel = await google.colab.kernel.comms.open(id);\n",
              "      // Send a message to notify the kernel that we're ready.\n",
              "      channel.send({})\n",
              "\n",
              "      for await (const message of channel.messages) {\n",
              "        // Send a message to notify the kernel that we're ready.\n",
              "        channel.send({})\n",
              "        if (message.buffers) {\n",
              "          for (const buffer of message.buffers) {\n",
              "            buffers.push(buffer);\n",
              "            downloaded += buffer.byteLength;\n",
              "            progress.value = downloaded;\n",
              "          }\n",
              "        }\n",
              "      }\n",
              "      const blob = new Blob(buffers, {type: 'application/binary'});\n",
              "      const a = document.createElement('a');\n",
              "      a.href = window.URL.createObjectURL(blob);\n",
              "      a.download = filename;\n",
              "      div.appendChild(a);\n",
              "      a.click();\n",
              "      div.remove();\n",
              "    }\n",
              "  "
            ]
          },
          "metadata": {}
        },
        {
          "output_type": "display_data",
          "data": {
            "text/plain": [
              "<IPython.core.display.Javascript object>"
            ],
            "application/javascript": [
              "download(\"download_9b9281e0-81f7-4fa8-824e-2320d493b654\", \"text_content.txt\", 0)"
            ]
          },
          "metadata": {}
        }
      ]
    },
    {
      "cell_type": "code",
      "source": [],
      "metadata": {
        "id": "7Q20AlHTXPm8"
      },
      "execution_count": null,
      "outputs": []
    }
  ]
}